{
  "nbformat": 4,
  "nbformat_minor": 0,
  "metadata": {
    "kernelspec": {
      "display_name": "Python 3",
      "language": "python",
      "name": "python3"
    },
    "language_info": {
      "codemirror_mode": {
        "name": "ipython",
        "version": 3
      },
      "file_extension": ".py",
      "mimetype": "text/x-python",
      "name": "python",
      "nbconvert_exporter": "python",
      "pygments_lexer": "ipython3",
      "version": "3.6.8"
    },
    "colab": {
      "provenance": [],
      "toc_visible": true
    },
    "accelerator": "GPU",
    "gpuClass": "standard"
  },
  "cells": [
    {
      "cell_type": "code",
      "metadata": {
        "id": "MmrqK0uMm_50"
      },
      "source": [
        "%matplotlib inline"
      ],
      "execution_count": null,
      "outputs": []
    },
    {
      "cell_type": "markdown",
      "metadata": {
        "id": "QvRkQB7Cm_54"
      },
      "source": [
        "\n",
        "What is PyTorch?\n",
        "================\n",
        "\n",
        "It’s a Python-based scientific computing package targeted at two sets of\n",
        "audiences:\n",
        "\n",
        "-  A replacement for NumPy to use the power of GPUs\n",
        "-  a deep learning research platform that provides maximum flexibility\n",
        "   and speed\n",
        "\n",
        "Getting Started\n",
        "---------------\n",
        "\n",
        "Tensors\n",
        "\n",
        "Tensors are similar to NumPy’s ndarrays, with the addition being that\n",
        "Tensors can also be used on a GPU to accelerate computing.\n",
        "\n"
      ]
    },
    {
      "cell_type": "code",
      "metadata": {
        "id": "eghDRMD0m_54"
      },
      "source": [
        "from __future__ import print_function\n",
        "import torch"
      ],
      "execution_count": null,
      "outputs": []
    },
    {
      "cell_type": "code",
      "metadata": {
        "id": "w2HpKUMK3GxQ",
        "colab": {
          "base_uri": "https://localhost:8080/",
          "height": 36
        },
        "outputId": "31474013-8e11-4cb6-a929-7a809845b0cb"
      },
      "source": [
        "torch.__version__"
      ],
      "execution_count": null,
      "outputs": [
        {
          "output_type": "execute_result",
          "data": {
            "text/plain": [
              "'1.13.1+cu116'"
            ],
            "application/vnd.google.colaboratory.intrinsic+json": {
              "type": "string"
            }
          },
          "metadata": {},
          "execution_count": 3
        }
      ]
    },
    {
      "cell_type": "code",
      "metadata": {
        "id": "QClgSmjUHtMZ",
        "colab": {
          "base_uri": "https://localhost:8080/"
        },
        "outputId": "e6265276-ff59-4682-87d6-b254e71d2f49"
      },
      "source": [
        "!nvidia-smi"
      ],
      "execution_count": null,
      "outputs": [
        {
          "output_type": "stream",
          "name": "stdout",
          "text": [
            "NVIDIA-SMI has failed because it couldn't communicate with the NVIDIA driver. Make sure that the latest NVIDIA driver is installed and running.\n",
            "\n"
          ]
        }
      ]
    },
    {
      "cell_type": "code",
      "source": [
        "!pwd"
      ],
      "metadata": {
        "colab": {
          "base_uri": "https://localhost:8080/"
        },
        "id": "o-34_s4Oeeaa",
        "outputId": "7e3e0e19-ca7d-4f1d-fd3b-552974fdd4a7"
      },
      "execution_count": null,
      "outputs": [
        {
          "output_type": "stream",
          "name": "stdout",
          "text": [
            "/content\n"
          ]
        }
      ]
    },
    {
      "cell_type": "code",
      "metadata": {
        "id": "bipJRei2JBHC",
        "colab": {
          "base_uri": "https://localhost:8080/"
        },
        "outputId": "24f70024-f70d-43a6-9d2c-b5dc63cdfa68"
      },
      "source": [
        "torch.cuda.is_available()"
      ],
      "execution_count": null,
      "outputs": [
        {
          "output_type": "execute_result",
          "data": {
            "text/plain": [
              "False"
            ]
          },
          "metadata": {},
          "execution_count": 8
        }
      ]
    },
    {
      "cell_type": "code",
      "metadata": {
        "id": "_MuYICJnCpL4",
        "colab": {
          "base_uri": "https://localhost:8080/"
        },
        "outputId": "02c1b60a-5af3-4d55-b59c-18bec41c6323"
      },
      "source": [
        "#List all the files in the current directory\n",
        "!ls -lh"
      ],
      "execution_count": null,
      "outputs": [
        {
          "output_type": "stream",
          "name": "stdout",
          "text": [
            "total 4.0K\n",
            "drwxr-xr-x 1 root root 4.0K Jan 27 14:36 sample_data\n"
          ]
        }
      ]
    },
    {
      "cell_type": "markdown",
      "metadata": {
        "id": "-xsepBrXCPPT"
      },
      "source": [
        "What about all `*Tensor`s?\n",
        "Press <esc> to get out of help"
      ]
    },
    {
      "cell_type": "code",
      "metadata": {
        "id": "Eu64OynzBocl"
      },
      "source": [
        "torch.*Tensor?"
      ],
      "execution_count": null,
      "outputs": []
    },
    {
      "cell_type": "code",
      "metadata": {
        "id": "-H49dJASB-xC"
      },
      "source": [
        "torch.nn.Module?"
      ],
      "execution_count": null,
      "outputs": []
    },
    {
      "cell_type": "code",
      "metadata": {
        "id": "89Zn8o-ACFTB"
      },
      "source": [
        "torch.nn.Module??"
      ],
      "execution_count": null,
      "outputs": []
    },
    {
      "cell_type": "markdown",
      "metadata": {
        "id": "POCPdIruMIWX"
      },
      "source": [
        "#Vectors (1D Tensors)"
      ]
    },
    {
      "cell_type": "markdown",
      "metadata": {
        "id": "k7TRwvDUP7qD"
      },
      "source": [
        "`torch.tensor` infers the dtype automatically, while `torch.Tensor` returns a torch.FloatTensor. \\\\\n",
        "I would recommend to stick to torch.tensor, which also has arguments like dtype, if you would like to change the type."
      ]
    },
    {
      "cell_type": "code",
      "source": [
        "[1, 2, 3, 4] # 1x4\n",
        "[[1,2,3,4], [5,6,7,8]] # 2x4"
      ],
      "metadata": {
        "id": "ZtL1lqUJnGfh",
        "colab": {
          "base_uri": "https://localhost:8080/"
        },
        "outputId": "0b09d6bb-09c0-4b24-ceda-09548536e624"
      },
      "execution_count": null,
      "outputs": [
        {
          "output_type": "execute_result",
          "data": {
            "text/plain": [
              "[[1, 2, 3, 4], [5, 6, 7, 8]]"
            ]
          },
          "metadata": {},
          "execution_count": 13
        }
      ]
    },
    {
      "cell_type": "code",
      "metadata": {
        "id": "Ofe3zqlIMLbD",
        "colab": {
          "base_uri": "https://localhost:8080/"
        },
        "outputId": "6922ca84-e0d3-4d24-c6f7-86c374a63b0e"
      },
      "source": [
        "# Creates a 1D tensor of integers 1 to 4\n",
        "v = torch.tensor([1,2,3,4])\n",
        "v"
      ],
      "execution_count": null,
      "outputs": [
        {
          "output_type": "execute_result",
          "data": {
            "text/plain": [
              "tensor([1, 2, 3, 4])"
            ]
          },
          "metadata": {},
          "execution_count": 14
        }
      ]
    },
    {
      "cell_type": "code",
      "source": [
        "v.shape"
      ],
      "metadata": {
        "colab": {
          "base_uri": "https://localhost:8080/"
        },
        "id": "9VZ2StbwTNYM",
        "outputId": "d510865b-cf5a-4971-fae7-dbc8624e5bed"
      },
      "execution_count": null,
      "outputs": [
        {
          "output_type": "execute_result",
          "data": {
            "text/plain": [
              "torch.Size([4])"
            ]
          },
          "metadata": {},
          "execution_count": 15
        }
      ]
    },
    {
      "cell_type": "code",
      "source": [
        "v[-1]"
      ],
      "metadata": {
        "colab": {
          "base_uri": "https://localhost:8080/"
        },
        "id": "jFRuGUbKTWXj",
        "outputId": "3bc19eb7-0d22-466c-9804-0bf9b39653e4"
      },
      "execution_count": null,
      "outputs": [
        {
          "output_type": "execute_result",
          "data": {
            "text/plain": [
              "tensor(4)"
            ]
          },
          "metadata": {},
          "execution_count": 16
        }
      ]
    },
    {
      "cell_type": "code",
      "source": [
        "v = torch.tensor([1, 2, 3, 4])\n",
        "print(v)"
      ],
      "metadata": {
        "colab": {
          "base_uri": "https://localhost:8080/"
        },
        "id": "-GFQWoyOujAu",
        "outputId": "69106054-740a-4ce9-ced1-2097b1002428"
      },
      "execution_count": null,
      "outputs": [
        {
          "output_type": "stream",
          "name": "stdout",
          "text": [
            "tensor([1, 2, 3, 4])\n"
          ]
        }
      ]
    },
    {
      "cell_type": "code",
      "metadata": {
        "id": "gbMhblg7MU5J",
        "colab": {
          "base_uri": "https://localhost:8080/"
        },
        "outputId": "5df7d1b6-0a2c-4fe8-c15b-8fccea42da29"
      },
      "source": [
        "v.dtype"
      ],
      "execution_count": null,
      "outputs": [
        {
          "output_type": "execute_result",
          "data": {
            "text/plain": [
              "torch.int64"
            ]
          },
          "metadata": {},
          "execution_count": 18
        }
      ]
    },
    {
      "cell_type": "code",
      "metadata": {
        "id": "YlgJDYkNMXi8",
        "colab": {
          "base_uri": "https://localhost:8080/"
        },
        "outputId": "ca929fb9-4a1d-49fe-dcfd-333670d3182d"
      },
      "source": [
        "v.shape"
      ],
      "execution_count": null,
      "outputs": [
        {
          "output_type": "execute_result",
          "data": {
            "text/plain": [
              "torch.Size([4])"
            ]
          },
          "metadata": {},
          "execution_count": 19
        }
      ]
    },
    {
      "cell_type": "code",
      "metadata": {
        "id": "G4HSCodPMZmo",
        "colab": {
          "base_uri": "https://localhost:8080/"
        },
        "outputId": "17b66ebe-0e9c-4a01-9c7c-ee91f304b4e2"
      },
      "source": [
        "v.size()"
      ],
      "execution_count": null,
      "outputs": [
        {
          "output_type": "execute_result",
          "data": {
            "text/plain": [
              "torch.Size([4])"
            ]
          },
          "metadata": {},
          "execution_count": 20
        }
      ]
    },
    {
      "cell_type": "code",
      "source": [
        "x = torch.rand(3,4)\n",
        "print(x)"
      ],
      "metadata": {
        "colab": {
          "base_uri": "https://localhost:8080/"
        },
        "id": "1MyjEya2raDN",
        "outputId": "4747484d-6692-4194-e4f9-2cf9fbeea908"
      },
      "execution_count": null,
      "outputs": [
        {
          "output_type": "stream",
          "name": "stdout",
          "text": [
            "tensor([[0.6225, 0.5274, 0.0829, 0.8078],\n",
            "        [0.8728, 0.5436, 0.5667, 0.1743],\n",
            "        [0.3792, 0.9801, 0.9075, 0.8233]])\n"
          ]
        }
      ]
    },
    {
      "cell_type": "code",
      "source": [
        "x.shape"
      ],
      "metadata": {
        "colab": {
          "base_uri": "https://localhost:8080/"
        },
        "id": "715FSe7jrhxO",
        "outputId": "7f84a500-23ed-4611-f100-30db0586d745"
      },
      "execution_count": null,
      "outputs": [
        {
          "output_type": "execute_result",
          "data": {
            "text/plain": [
              "torch.Size([3, 4])"
            ]
          },
          "metadata": {},
          "execution_count": 22
        }
      ]
    },
    {
      "cell_type": "code",
      "source": [
        "x.size()"
      ],
      "metadata": {
        "colab": {
          "base_uri": "https://localhost:8080/"
        },
        "id": "BuNyX034rjp9",
        "outputId": "5c1c965e-8d1a-467f-96e2-350107038e5d"
      },
      "execution_count": null,
      "outputs": [
        {
          "output_type": "execute_result",
          "data": {
            "text/plain": [
              "torch.Size([3, 4])"
            ]
          },
          "metadata": {},
          "execution_count": 23
        }
      ]
    },
    {
      "cell_type": "code",
      "source": [
        "x.size(0)"
      ],
      "metadata": {
        "colab": {
          "base_uri": "https://localhost:8080/"
        },
        "id": "ROyrJAHnrlK0",
        "outputId": "bda08bca-3f07-499a-ef1d-6431b5ebf960"
      },
      "execution_count": null,
      "outputs": [
        {
          "output_type": "execute_result",
          "data": {
            "text/plain": [
              "3"
            ]
          },
          "metadata": {},
          "execution_count": 24
        }
      ]
    },
    {
      "cell_type": "code",
      "source": [
        "x.size(1)"
      ],
      "metadata": {
        "colab": {
          "base_uri": "https://localhost:8080/"
        },
        "id": "avLnSeuqpdfC",
        "outputId": "19354a4a-bbba-47f7-e53a-1ee013601e7b"
      },
      "execution_count": null,
      "outputs": [
        {
          "output_type": "execute_result",
          "data": {
            "text/plain": [
              "4"
            ]
          },
          "metadata": {},
          "execution_count": 25
        }
      ]
    },
    {
      "cell_type": "code",
      "metadata": {
        "id": "YjJH8C1eMezj",
        "colab": {
          "base_uri": "https://localhost:8080/"
        },
        "outputId": "4aa9246d-7a9e-4fec-cfad-683d59ea2e99"
      },
      "source": [
        "#Print number of dimensions (1D) and size of tensor\n",
        "print(f'dim: {v.dim()}, size: {v.size()[0]}')"
      ],
      "execution_count": null,
      "outputs": [
        {
          "output_type": "stream",
          "name": "stdout",
          "text": [
            "dim: 1, size: 4\n"
          ]
        }
      ]
    },
    {
      "cell_type": "code",
      "metadata": {
        "id": "iNEv9cYLM_rh",
        "colab": {
          "base_uri": "https://localhost:8080/"
        },
        "outputId": "d6fba8c9-069a-468a-cc25-d980e20c9220"
      },
      "source": [
        "w = torch.tensor([1,0,2,0])\n",
        "w"
      ],
      "execution_count": null,
      "outputs": [
        {
          "output_type": "execute_result",
          "data": {
            "text/plain": [
              "tensor([1, 0, 2, 0])"
            ]
          },
          "metadata": {},
          "execution_count": 27
        }
      ]
    },
    {
      "cell_type": "code",
      "metadata": {
        "id": "WvKd18H1M7J1",
        "colab": {
          "base_uri": "https://localhost:8080/"
        },
        "outputId": "4c8db5d8-6d32-452c-ee22-2dd324c14d09"
      },
      "source": [
        "# Element-wise multiplication\n",
        "v * w"
      ],
      "execution_count": null,
      "outputs": [
        {
          "output_type": "execute_result",
          "data": {
            "text/plain": [
              "tensor([1, 0, 6, 0])"
            ]
          },
          "metadata": {},
          "execution_count": 28
        }
      ]
    },
    {
      "cell_type": "code",
      "metadata": {
        "id": "mGG_u6M_NbKv",
        "colab": {
          "base_uri": "https://localhost:8080/"
        },
        "outputId": "693f6dd1-4754-41d0-8517-b1e65c490717"
      },
      "source": [
        "# inner product : 1*1 + 2*0 + 3*2 + 4*0\n",
        "torch.dot(v, w)"
      ],
      "execution_count": null,
      "outputs": [
        {
          "output_type": "execute_result",
          "data": {
            "text/plain": [
              "tensor(7)"
            ]
          },
          "metadata": {},
          "execution_count": 29
        }
      ]
    },
    {
      "cell_type": "markdown",
      "source": [
        "torch.tensor vs. torch.Tensor (refer to [link](https://discuss.pytorch.org/t/difference-between-torch-tensor-and-torch-tensor/106816/4))  \n",
        "\"*torch.Tensor(10) will return an uninitialized FloatTensor with 10 **values**, while torch.tensor(10) will return a LongTensor containing a **single value**(10).*\""
      ],
      "metadata": {
        "id": "BBFE5J3_ddV-"
      }
    },
    {
      "cell_type": "code",
      "metadata": {
        "id": "SOG9Y_7gNcjL",
        "colab": {
          "base_uri": "https://localhost:8080/"
        },
        "outputId": "080eb09e-f129-4dd2-9319-51421d2e5ed6"
      },
      "source": [
        "# In-place replacement of random number from 0 to 10\n",
        "x = torch.Tensor(5).random_(10)\n",
        "print(x)"
      ],
      "execution_count": null,
      "outputs": [
        {
          "output_type": "stream",
          "name": "stdout",
          "text": [
            "tensor([5., 1., 7., 6., 8.])\n"
          ]
        }
      ]
    },
    {
      "cell_type": "code",
      "metadata": {
        "id": "XAbeXtr9Ny44",
        "colab": {
          "base_uri": "https://localhost:8080/"
        },
        "outputId": "38998f18-c154-4059-ce0b-6097ca18c8b3"
      },
      "source": [
        "print(f'first: {x[0]}, last: {x[-1]}')"
      ],
      "execution_count": null,
      "outputs": [
        {
          "output_type": "stream",
          "name": "stdout",
          "text": [
            "first: 5.0, last: 8.0\n"
          ]
        }
      ]
    },
    {
      "cell_type": "code",
      "metadata": {
        "id": "nDKG9ODgOcqf",
        "colab": {
          "base_uri": "https://localhost:8080/"
        },
        "outputId": "2b518277-0813-473d-c58e-2b481ae6127c"
      },
      "source": [
        "# Extract sub-Tensor [from:to) : Slicing\n",
        "x[1 : 2]"
      ],
      "execution_count": null,
      "outputs": [
        {
          "output_type": "execute_result",
          "data": {
            "text/plain": [
              "tensor([1.])"
            ]
          },
          "metadata": {},
          "execution_count": 136
        }
      ]
    },
    {
      "cell_type": "code",
      "metadata": {
        "id": "BQkEMmVEOzyp",
        "colab": {
          "base_uri": "https://localhost:8080/"
        },
        "outputId": "55212f97-594a-4852-a32c-8939674b64ae"
      },
      "source": [
        " x[1 : 2 + 1]"
      ],
      "execution_count": null,
      "outputs": [
        {
          "output_type": "execute_result",
          "data": {
            "text/plain": [
              "tensor([1., 7.])"
            ]
          },
          "metadata": {},
          "execution_count": 137
        }
      ]
    },
    {
      "cell_type": "code",
      "source": [
        "x[2:5]"
      ],
      "metadata": {
        "colab": {
          "base_uri": "https://localhost:8080/"
        },
        "id": "lHXarFmjtGi1",
        "outputId": "68160e5c-de9b-445d-b888-60933d505e90"
      },
      "execution_count": null,
      "outputs": [
        {
          "output_type": "execute_result",
          "data": {
            "text/plain": [
              "tensor([7., 6., 8.])"
            ]
          },
          "metadata": {},
          "execution_count": 138
        }
      ]
    },
    {
      "cell_type": "code",
      "source": [
        "x[:4]"
      ],
      "metadata": {
        "colab": {
          "base_uri": "https://localhost:8080/"
        },
        "id": "ZY6_PReBtlM6",
        "outputId": "5ca61787-75ed-4015-80c3-30219cdda791"
      },
      "execution_count": null,
      "outputs": [
        {
          "output_type": "execute_result",
          "data": {
            "text/plain": [
              "tensor([5., 1., 7., 6.])"
            ]
          },
          "metadata": {},
          "execution_count": 139
        }
      ]
    },
    {
      "cell_type": "code",
      "source": [
        "x[:]"
      ],
      "metadata": {
        "colab": {
          "base_uri": "https://localhost:8080/"
        },
        "id": "oFIWvSXvt50A",
        "outputId": "5d1953c6-3ba6-464c-b96d-49e320983ddf"
      },
      "execution_count": null,
      "outputs": [
        {
          "output_type": "execute_result",
          "data": {
            "text/plain": [
              "tensor([5., 1., 7., 6., 8.])"
            ]
          },
          "metadata": {},
          "execution_count": 140
        }
      ]
    },
    {
      "cell_type": "code",
      "metadata": {
        "id": "BK0wnY4tO5sY",
        "colab": {
          "base_uri": "https://localhost:8080/"
        },
        "outputId": "28c002b8-e4b2-4094-a558-31b2c013baad"
      },
      "source": [
        "# Create a tensor with integers ranging from 1 to 5, excluding 5\n",
        "# Note that torch.range is deprecated in favor of torch.arange().\n",
        "v = torch.arange(1, 4 + 1)\n",
        "v"
      ],
      "execution_count": null,
      "outputs": [
        {
          "output_type": "execute_result",
          "data": {
            "text/plain": [
              "tensor([1, 2, 3, 4])"
            ]
          },
          "metadata": {},
          "execution_count": 36
        }
      ]
    },
    {
      "cell_type": "code",
      "metadata": {
        "id": "kcVIBHCnRKTj",
        "colab": {
          "base_uri": "https://localhost:8080/"
        },
        "outputId": "5eb2c0bb-8612-4dee-95c5-0649c91713a3"
      },
      "source": [
        "# Square all elements in the tensor\n",
        "print(v.pow(2), v)"
      ],
      "execution_count": null,
      "outputs": [
        {
          "output_type": "stream",
          "name": "stdout",
          "text": [
            "tensor([ 1,  4,  9, 16]) tensor([1, 2, 3, 4])\n"
          ]
        }
      ]
    },
    {
      "cell_type": "markdown",
      "metadata": {
        "id": "oeqCwkJaRRgq"
      },
      "source": [
        "# Matrices (2D Tensors)"
      ]
    },
    {
      "cell_type": "code",
      "metadata": {
        "id": "8EItSSgyQ-x2",
        "colab": {
          "base_uri": "https://localhost:8080/"
        },
        "outputId": "c659e572-7493-4603-b51d-c1eb52dc3647"
      },
      "source": [
        "# Square all elements in the tensor\n",
        "m = torch.tensor([[1, 2, 3, 4],\n",
        "                  [5, 6, 7, 8]])\n",
        "m"
      ],
      "execution_count": null,
      "outputs": [
        {
          "output_type": "execute_result",
          "data": {
            "text/plain": [
              "tensor([[1, 2, 3, 4],\n",
              "        [5, 6, 7, 8]])"
            ]
          },
          "metadata": {},
          "execution_count": 146
        }
      ]
    },
    {
      "cell_type": "code",
      "metadata": {
        "id": "BFMsg9LfRW8L",
        "colab": {
          "base_uri": "https://localhost:8080/"
        },
        "outputId": "cdbc0523-7d90-481f-c72e-52aa8aa940eb"
      },
      "source": [
        "m.dim()"
      ],
      "execution_count": null,
      "outputs": [
        {
          "output_type": "execute_result",
          "data": {
            "text/plain": [
              "2"
            ]
          },
          "metadata": {},
          "execution_count": 39
        }
      ]
    },
    {
      "cell_type": "code",
      "metadata": {
        "id": "ySGFAitHRdpb",
        "colab": {
          "base_uri": "https://localhost:8080/"
        },
        "outputId": "8a1b7826-b7c9-45d0-e750-94bcdbd1169f"
      },
      "source": [
        "m.size()"
      ],
      "execution_count": null,
      "outputs": [
        {
          "output_type": "execute_result",
          "data": {
            "text/plain": [
              "torch.Size([2, 4])"
            ]
          },
          "metadata": {},
          "execution_count": 40
        }
      ]
    },
    {
      "cell_type": "code",
      "metadata": {
        "id": "XH5nb7HnRfpD",
        "colab": {
          "base_uri": "https://localhost:8080/"
        },
        "outputId": "c877471c-7c1e-4e80-da2c-ef1e4aace703"
      },
      "source": [
        "m.shape"
      ],
      "execution_count": null,
      "outputs": [
        {
          "output_type": "execute_result",
          "data": {
            "text/plain": [
              "torch.Size([2, 4])"
            ]
          },
          "metadata": {},
          "execution_count": 41
        }
      ]
    },
    {
      "cell_type": "code",
      "metadata": {
        "id": "Mt_VBqUGRa-N",
        "colab": {
          "base_uri": "https://localhost:8080/"
        },
        "outputId": "afd10686-717d-4a89-9f79-9540f1ed8303"
      },
      "source": [
        "print(m.size(0), m.size(1), m.size(), sep=' -- ')"
      ],
      "execution_count": null,
      "outputs": [
        {
          "output_type": "stream",
          "name": "stdout",
          "text": [
            "2 -- 4 -- torch.Size([2, 4])\n"
          ]
        }
      ]
    },
    {
      "cell_type": "code",
      "metadata": {
        "id": "8tgK2HS6RviJ",
        "colab": {
          "base_uri": "https://localhost:8080/"
        },
        "outputId": "6f090a07-db83-466b-8535-338557ee974d"
      },
      "source": [
        "# Return the total number of elements, hence num-el (number of elements)\n",
        "m.numel()"
      ],
      "execution_count": null,
      "outputs": [
        {
          "output_type": "execute_result",
          "data": {
            "text/plain": [
              "8"
            ]
          },
          "metadata": {},
          "execution_count": 43
        }
      ]
    },
    {
      "cell_type": "code",
      "metadata": {
        "id": "gyCjWoDgR5Z6",
        "colab": {
          "base_uri": "https://localhost:8080/"
        },
        "outputId": "e2691e35-380f-4f73-f835-f3c59de154d4"
      },
      "source": [
        "#Indexing row 0, column 2 (0-indexed)\n",
        "m[0][2]"
      ],
      "execution_count": null,
      "outputs": [
        {
          "output_type": "execute_result",
          "data": {
            "text/plain": [
              "tensor(3)"
            ]
          },
          "metadata": {},
          "execution_count": 44
        }
      ]
    },
    {
      "cell_type": "code",
      "metadata": {
        "id": "5Xi5FY2RSD0o",
        "colab": {
          "base_uri": "https://localhost:8080/"
        },
        "outputId": "de7030a7-4d41-4172-ed2f-29d9d2ded957"
      },
      "source": [
        "#Indexing row 0, column 2 (0-indexed)\n",
        "m[0, 2]"
      ],
      "execution_count": null,
      "outputs": [
        {
          "output_type": "execute_result",
          "data": {
            "text/plain": [
              "tensor(3)"
            ]
          },
          "metadata": {},
          "execution_count": 45
        }
      ]
    },
    {
      "cell_type": "code",
      "source": [
        "m[:, 0]"
      ],
      "metadata": {
        "colab": {
          "base_uri": "https://localhost:8080/"
        },
        "id": "kak0WS4muj1v",
        "outputId": "6f6d40cc-e3f6-411f-f142-00b028d513c4"
      },
      "execution_count": null,
      "outputs": [
        {
          "output_type": "execute_result",
          "data": {
            "text/plain": [
              "tensor([1, 5])"
            ]
          },
          "metadata": {},
          "execution_count": 141
        }
      ]
    },
    {
      "cell_type": "code",
      "metadata": {
        "id": "WpWzNfI3SKPQ",
        "colab": {
          "base_uri": "https://localhost:8080/"
        },
        "outputId": "549d67e9-43c3-47d7-b0ef-8fa3cadb2c33"
      },
      "source": [
        "#Indexing column 1, all rows (returns size 2)\n",
        "print(m[:, 1], m[:,1].shape, sep=' , ')"
      ],
      "execution_count": null,
      "outputs": [
        {
          "output_type": "stream",
          "name": "stdout",
          "text": [
            "tensor([2, 6]) , torch.Size([2])\n"
          ]
        }
      ]
    },
    {
      "cell_type": "code",
      "metadata": {
        "id": "AvZk-Ng9TEm7",
        "colab": {
          "base_uri": "https://localhost:8080/"
        },
        "outputId": "af03a026-de1c-419a-848f-083b6afbf1f5"
      },
      "source": [
        "#Indexing column 1, all rows (returns size 2x1)\n",
        "print(m[:, [1]], m[:, [1]].shape, sep=' , ')"
      ],
      "execution_count": null,
      "outputs": [
        {
          "output_type": "stream",
          "name": "stdout",
          "text": [
            "tensor([[2],\n",
            "        [6]]) , torch.Size([2, 1])\n"
          ]
        }
      ]
    },
    {
      "cell_type": "code",
      "metadata": {
        "id": "QTjdWl60SWuD",
        "colab": {
          "base_uri": "https://localhost:8080/"
        },
        "outputId": "bf7391e9-8d64-4aa2-fcdd-1e4bcf098a37"
      },
      "source": [
        "#Indexing row 0, all column (returns size 4)\n",
        "print(m[0, :], m[0, :].shape, sep=' , ')"
      ],
      "execution_count": null,
      "outputs": [
        {
          "output_type": "stream",
          "name": "stdout",
          "text": [
            "tensor([1, 2, 3, 4]) , torch.Size([4])\n"
          ]
        }
      ]
    },
    {
      "cell_type": "code",
      "metadata": {
        "id": "d09NL8COTdz8",
        "colab": {
          "base_uri": "https://localhost:8080/"
        },
        "outputId": "df62c2af-0d2c-4a19-b54f-dc71d6b69e54"
      },
      "source": [
        "#Indexing row 0, all column (returns size 1x4)\n",
        "print(m[[0], :], m[[0], :].shape, sep=' , ') "
      ],
      "execution_count": null,
      "outputs": [
        {
          "output_type": "stream",
          "name": "stdout",
          "text": [
            "tensor([[1, 2, 3, 4]]) , torch.Size([1, 4])\n"
          ]
        }
      ]
    },
    {
      "cell_type": "code",
      "metadata": {
        "id": "9ws-NUFRWb8A",
        "colab": {
          "base_uri": "https://localhost:8080/"
        },
        "outputId": "d1f4eec7-ad1d-47de-e3ab-4c639c58887b"
      },
      "source": [
        "# Add a random tensor of size 2x4 to m\n",
        "m + torch.rand(2, 4)"
      ],
      "execution_count": null,
      "outputs": [
        {
          "output_type": "execute_result",
          "data": {
            "text/plain": [
              "tensor([[1.1910, 2.1312, 3.9559, 4.0585],\n",
              "        [5.6868, 6.7893, 7.8446, 8.8368]])"
            ]
          },
          "metadata": {},
          "execution_count": 50
        }
      ]
    },
    {
      "cell_type": "code",
      "metadata": {
        "id": "-9zd6wUgWlHV",
        "colab": {
          "base_uri": "https://localhost:8080/"
        },
        "outputId": "588fc3e2-fc0d-4e1d-bc38-2ec5b42a2266"
      },
      "source": [
        "# Subtract a random tensor of size 2x4 to m\n",
        "m - torch.rand(2, 4)"
      ],
      "execution_count": null,
      "outputs": [
        {
          "output_type": "execute_result",
          "data": {
            "text/plain": [
              "tensor([[0.6930, 1.6935, 2.2307, 3.1831],\n",
              "        [4.3867, 5.3362, 6.6462, 7.7725]])"
            ]
          },
          "metadata": {},
          "execution_count": 51
        }
      ]
    },
    {
      "cell_type": "code",
      "metadata": {
        "id": "QOaJVvNbWzNU",
        "colab": {
          "base_uri": "https://localhost:8080/"
        },
        "outputId": "3be7ac05-683b-4ba5-db68-64c6b66ad3ba"
      },
      "source": [
        "# Multiply a random tensor of size 2x4 to m\n",
        "# Elementwise multiplication\n",
        "m * torch.rand(2, 4)"
      ],
      "execution_count": null,
      "outputs": [
        {
          "output_type": "execute_result",
          "data": {
            "text/plain": [
              "tensor([[0.5163, 1.6490, 2.4653, 1.4376],\n",
              "        [3.5107, 4.8361, 2.9729, 4.8731]])"
            ]
          },
          "metadata": {},
          "execution_count": 52
        }
      ]
    },
    {
      "cell_type": "code",
      "metadata": {
        "id": "MKmbgoMEXZvz",
        "colab": {
          "base_uri": "https://localhost:8080/"
        },
        "outputId": "476ab45d-7d55-41c8-a534-a43f6b6eebbc"
      },
      "source": [
        "# Divide m by a random tensor of size 2x4 \n",
        "# Elementwise operation\n",
        "m / torch.rand(2, 4)"
      ],
      "execution_count": null,
      "outputs": [
        {
          "output_type": "execute_result",
          "data": {
            "text/plain": [
              "tensor([[  1.9076,   4.6666,   3.3457,   5.2328],\n",
              "        [  9.2775, 176.9848,  59.6116,   8.6557]])"
            ]
          },
          "metadata": {},
          "execution_count": 53
        }
      ]
    },
    {
      "cell_type": "code",
      "metadata": {
        "id": "7PLjWEMgXiDB",
        "colab": {
          "base_uri": "https://localhost:8080/"
        },
        "outputId": "da9dc06c-9581-4d83-ce5b-ab43d372db37"
      },
      "source": [
        "m.size()"
      ],
      "execution_count": null,
      "outputs": [
        {
          "output_type": "execute_result",
          "data": {
            "text/plain": [
              "torch.Size([2, 4])"
            ]
          },
          "metadata": {},
          "execution_count": 54
        }
      ]
    },
    {
      "cell_type": "code",
      "metadata": {
        "id": "hlzitpAVXjwX",
        "colab": {
          "base_uri": "https://localhost:8080/"
        },
        "outputId": "29785552-fea0-4ded-c7e7-5e32dd10743c"
      },
      "source": [
        "# Transpose tensor m, which is essentially 2x4 to 4x2\n",
        "m.t()"
      ],
      "execution_count": null,
      "outputs": [
        {
          "output_type": "execute_result",
          "data": {
            "text/plain": [
              "tensor([[1, 5],\n",
              "        [2, 6],\n",
              "        [3, 7],\n",
              "        [4, 8]])"
            ]
          },
          "metadata": {},
          "execution_count": 55
        }
      ]
    },
    {
      "cell_type": "code",
      "source": [
        "B, C, H, W = 16, 256, 7, 7\n",
        "A = torch.rand(B, C, H, W)\n",
        "print(A)\n",
        "A.permute(1, 0, 2, 3)\n",
        "print(A)"
      ],
      "metadata": {
        "id": "Zf7Itqtxvisl"
      },
      "execution_count": null,
      "outputs": []
    },
    {
      "cell_type": "code",
      "metadata": {
        "id": "WMfFksz_XvZK",
        "colab": {
          "base_uri": "https://localhost:8080/"
        },
        "outputId": "fe2a1db6-82aa-43f1-b7f3-c6cc7a9fd66c"
      },
      "source": [
        "m.t().shape"
      ],
      "execution_count": null,
      "outputs": [
        {
          "output_type": "execute_result",
          "data": {
            "text/plain": [
              "torch.Size([4, 2])"
            ]
          },
          "metadata": {},
          "execution_count": 147
        }
      ]
    },
    {
      "cell_type": "code",
      "metadata": {
        "id": "3YHT3oGNXzSn",
        "colab": {
          "base_uri": "https://localhost:8080/"
        },
        "outputId": "57e6f1ab-3377-4682-a8f7-710ea0be5785"
      },
      "source": [
        "m.t().size()"
      ],
      "execution_count": null,
      "outputs": [
        {
          "output_type": "execute_result",
          "data": {
            "text/plain": [
              "torch.Size([4, 2])"
            ]
          },
          "metadata": {},
          "execution_count": 148
        }
      ]
    },
    {
      "cell_type": "code",
      "metadata": {
        "colab": {
          "base_uri": "https://localhost:8080/"
        },
        "id": "6HAywoVUl3V_",
        "outputId": "8b56ddee-45ba-444b-f8e1-f722b477b1a0"
      },
      "source": [
        "#Same as\n",
        "m.T"
      ],
      "execution_count": null,
      "outputs": [
        {
          "output_type": "execute_result",
          "data": {
            "text/plain": [
              "tensor([[1, 5],\n",
              "        [2, 6],\n",
              "        [3, 7],\n",
              "        [4, 8]])"
            ]
          },
          "metadata": {},
          "execution_count": 149
        }
      ]
    },
    {
      "cell_type": "code",
      "metadata": {
        "id": "jn3U43rbX1v7",
        "colab": {
          "base_uri": "https://localhost:8080/"
        },
        "outputId": "2c1eb344-87c6-4e27-f443-44e14e2f1358"
      },
      "source": [
        "#Same as\n",
        "m.transpose(0, 1)"
      ],
      "execution_count": null,
      "outputs": [
        {
          "output_type": "execute_result",
          "data": {
            "text/plain": [
              "tensor([[1, 5],\n",
              "        [2, 6],\n",
              "        [3, 7],\n",
              "        [4, 8]])"
            ]
          },
          "metadata": {},
          "execution_count": 150
        }
      ]
    },
    {
      "cell_type": "code",
      "metadata": {
        "id": "DOGWgpwZYDbL",
        "colab": {
          "base_uri": "https://localhost:8080/"
        },
        "outputId": "0e886b32-ddfc-4165-b460-3cc73ad733fe"
      },
      "source": [
        "n = torch.tensor([[1, 1, 1, 1],\n",
        "                  [0, 0, 0, 0]])\n",
        "n"
      ],
      "execution_count": null,
      "outputs": [
        {
          "output_type": "execute_result",
          "data": {
            "text/plain": [
              "tensor([[1, 1, 1, 1],\n",
              "        [0, 0, 0, 0]])"
            ]
          },
          "metadata": {},
          "execution_count": 151
        }
      ]
    },
    {
      "cell_type": "code",
      "metadata": {
        "id": "YgDXC528YU1s",
        "colab": {
          "base_uri": "https://localhost:8080/"
        },
        "outputId": "7611128a-173d-4203-c278-3ec1e91d9063"
      },
      "source": [
        "n.shape"
      ],
      "execution_count": null,
      "outputs": [
        {
          "output_type": "execute_result",
          "data": {
            "text/plain": [
              "torch.Size([2, 4])"
            ]
          },
          "metadata": {},
          "execution_count": 61
        }
      ]
    },
    {
      "cell_type": "code",
      "metadata": {
        "colab": {
          "base_uri": "https://localhost:8080/"
        },
        "id": "9AKWkfUunbai",
        "outputId": "eda2e744-b7e6-41f3-c027-b7a17deff4a2"
      },
      "source": [
        "m.shape"
      ],
      "execution_count": null,
      "outputs": [
        {
          "output_type": "execute_result",
          "data": {
            "text/plain": [
              "torch.Size([2, 4])"
            ]
          },
          "metadata": {},
          "execution_count": 62
        }
      ]
    },
    {
      "cell_type": "code",
      "metadata": {
        "id": "oTooHF0hYWaj",
        "colab": {
          "base_uri": "https://localhost:8080/"
        },
        "outputId": "8640e6fd-3860-491d-9bc5-154c331c577e"
      },
      "source": [
        "# Matrix multiplication \n",
        "# torch.matmul(torch.tensor, torch.tensor)\n",
        "# A = (2x4 * 4x2 = 2x2)\n",
        "\n",
        "A = torch.matmul(m, n.T)\n",
        "print(A, A.size(), sep=\" , \")"
      ],
      "execution_count": null,
      "outputs": [
        {
          "output_type": "stream",
          "name": "stdout",
          "text": [
            "tensor([[10,  0],\n",
            "        [26,  0]]) , torch.Size([2, 2])\n"
          ]
        }
      ]
    },
    {
      "cell_type": "code",
      "metadata": {
        "colab": {
          "base_uri": "https://localhost:8080/"
        },
        "id": "ves_6VHGoRlq",
        "outputId": "c894b4fa-dafe-442d-d0ec-3d09741de699"
      },
      "source": [
        "# B = (4x2 * 2x4 = 4x4)\n",
        "\n",
        "B = torch.matmul(m.T, n)\n",
        "print(B, B.size(), sep=\" , \")"
      ],
      "execution_count": null,
      "outputs": [
        {
          "output_type": "stream",
          "name": "stdout",
          "text": [
            "tensor([[1, 1, 1, 1],\n",
            "        [2, 2, 2, 2],\n",
            "        [3, 3, 3, 3],\n",
            "        [4, 4, 4, 4]]) , torch.Size([4, 4])\n"
          ]
        }
      ]
    },
    {
      "cell_type": "code",
      "metadata": {
        "colab": {
          "base_uri": "https://localhost:8080/"
        },
        "id": "XN0lHCpKnE3v",
        "outputId": "4be22c9b-7cac-4e02-f40e-c16dbb8aab98"
      },
      "source": [
        "# Matrix multiplication (4x2 * 2x4 = 4x4)\n",
        "# torch.tensor.mm(torch.tensor)\n",
        "BB = m.T\n",
        "BB.mm(n)"
      ],
      "execution_count": null,
      "outputs": [
        {
          "output_type": "execute_result",
          "data": {
            "text/plain": [
              "tensor([[1, 1, 1, 1],\n",
              "        [2, 2, 2, 2],\n",
              "        [3, 3, 3, 3],\n",
              "        [4, 4, 4, 4]])"
            ]
          },
          "metadata": {},
          "execution_count": 65
        }
      ]
    },
    {
      "cell_type": "code",
      "metadata": {
        "colab": {
          "base_uri": "https://localhost:8080/"
        },
        "id": "P0Odu1_LnrVi",
        "outputId": "b3203b66-1aaa-461d-a91b-75d6e6223791"
      },
      "source": [
        "# Matrix multiplication \n",
        "# using `@` operator\n",
        "AA = m @ n.T\n",
        "BBB = m.T @ n\n",
        "print(AA, BBB, sep=\"\\n\")"
      ],
      "execution_count": null,
      "outputs": [
        {
          "output_type": "stream",
          "name": "stdout",
          "text": [
            "tensor([[10,  0],\n",
            "        [26,  0]])\n",
            "tensor([[1, 1, 1, 1],\n",
            "        [2, 2, 2, 2],\n",
            "        [3, 3, 3, 3],\n",
            "        [4, 4, 4, 4]])\n"
          ]
        }
      ]
    },
    {
      "cell_type": "markdown",
      "metadata": {
        "id": "VIg-ty0UcAWO"
      },
      "source": [
        "# Constructor"
      ]
    },
    {
      "cell_type": "markdown",
      "metadata": {
        "id": "9JdbuqoCm_57"
      },
      "source": [
        "<div class=\"alert alert-info\"><h4>Note</h4><p>An uninitialized matrix is declared,\n",
        "    but does not contain definite known\n",
        "    values before it is used. When an\n",
        "    uninitialized matrix is created,\n",
        "    whatever values were in the allocated\n",
        "    memory at the time will appear as the initial values.</p></div>\n",
        "\n"
      ]
    },
    {
      "cell_type": "markdown",
      "metadata": {
        "id": "qvBic-T-m_57"
      },
      "source": [
        "Construct a 5x3 matrix, uninitialized:\n",
        "\n"
      ]
    },
    {
      "cell_type": "code",
      "metadata": {
        "id": "OlzeNU-7m_58",
        "colab": {
          "base_uri": "https://localhost:8080/"
        },
        "outputId": "f970491d-448e-49cc-8f61-7452f96889fb"
      },
      "source": [
        "x = torch.empty(5, 3)\n",
        "x"
      ],
      "execution_count": null,
      "outputs": [
        {
          "output_type": "execute_result",
          "data": {
            "text/plain": [
              "tensor([[1.2108e-34, 0.0000e+00, 3.5032e-44],\n",
              "        [0.0000e+00,        nan, 1.7698e+02],\n",
              "        [1.1578e+27, 7.1463e+22, 4.6241e+30],\n",
              "        [1.0552e+24, 5.5757e-02, 1.8728e+31],\n",
              "        [5.9571e-02, 7.0374e+22, 6.2899e-37]])"
            ]
          },
          "metadata": {},
          "execution_count": 67
        }
      ]
    },
    {
      "cell_type": "code",
      "metadata": {
        "id": "d-ZnrEKcDxoP",
        "colab": {
          "base_uri": "https://localhost:8080/"
        },
        "outputId": "a7b82819-2556-48f6-9259-0d5300d19fdd"
      },
      "source": [
        "x.shape"
      ],
      "execution_count": null,
      "outputs": [
        {
          "output_type": "execute_result",
          "data": {
            "text/plain": [
              "torch.Size([5, 3])"
            ]
          },
          "metadata": {},
          "execution_count": 68
        }
      ]
    },
    {
      "cell_type": "code",
      "metadata": {
        "id": "3M0pheuaERnP",
        "colab": {
          "base_uri": "https://localhost:8080/"
        },
        "outputId": "2c74d170-0752-4f15-bea3-b0e13d72fe14"
      },
      "source": [
        "#prints dimensional space and sub-dimensions\n",
        "print(f'point in a {x.numel()} dimensional space')\n",
        "print(f'organized in {x.dim()} sub-dimensions')"
      ],
      "execution_count": null,
      "outputs": [
        {
          "output_type": "stream",
          "name": "stdout",
          "text": [
            "point in a 15 dimensional space\n",
            "organized in 2 sub-dimensions\n"
          ]
        }
      ]
    },
    {
      "cell_type": "markdown",
      "metadata": {
        "id": "VGZW4Bgtm_5-"
      },
      "source": [
        "Construct a randomly initialized matrix:\n",
        "\n"
      ]
    },
    {
      "cell_type": "code",
      "metadata": {
        "id": "11Ah7yD0m_5-",
        "colab": {
          "base_uri": "https://localhost:8080/"
        },
        "outputId": "989334d5-2b04-45cd-cd55-7777789e4578"
      },
      "source": [
        "x = torch.rand(5, 3)\n",
        "x"
      ],
      "execution_count": null,
      "outputs": [
        {
          "output_type": "execute_result",
          "data": {
            "text/plain": [
              "tensor([[0.4947, 0.0307, 0.2158],\n",
              "        [0.0442, 0.4687, 0.4465],\n",
              "        [0.7204, 0.1672, 0.6537],\n",
              "        [0.1036, 0.2021, 0.9351],\n",
              "        [0.1270, 0.6328, 0.3870]])"
            ]
          },
          "metadata": {},
          "execution_count": 70
        }
      ]
    },
    {
      "cell_type": "code",
      "metadata": {
        "id": "WyeHPRqCIyNe",
        "colab": {
          "base_uri": "https://localhost:8080/"
        },
        "outputId": "85e4e7b3-34eb-4dbf-f2bb-1cc5358c22ac"
      },
      "source": [
        "x.shape"
      ],
      "execution_count": null,
      "outputs": [
        {
          "output_type": "execute_result",
          "data": {
            "text/plain": [
              "torch.Size([5, 3])"
            ]
          },
          "metadata": {},
          "execution_count": 71
        }
      ]
    },
    {
      "cell_type": "code",
      "metadata": {
        "id": "FC9-w4fiI4Gd",
        "colab": {
          "base_uri": "https://localhost:8080/"
        },
        "outputId": "ac834bee-c810-46d3-9ab8-99b50a0530fe"
      },
      "source": [
        "x.size()"
      ],
      "execution_count": null,
      "outputs": [
        {
          "output_type": "execute_result",
          "data": {
            "text/plain": [
              "torch.Size([5, 3])"
            ]
          },
          "metadata": {},
          "execution_count": 72
        }
      ]
    },
    {
      "cell_type": "markdown",
      "metadata": {
        "id": "YrrIvJOdm_6B"
      },
      "source": [
        "Construct a matrix filled zeros and of dtype long:\n",
        "\n"
      ]
    },
    {
      "cell_type": "markdown",
      "metadata": {
        "id": "Qt61N-dqdO0D"
      },
      "source": [
        "Refer to https://pytorch.org/docs/stable/tensor_attributes.html#torch.torch.dtype "
      ]
    },
    {
      "cell_type": "code",
      "metadata": {
        "id": "cyDVDAmBm_6B",
        "colab": {
          "base_uri": "https://localhost:8080/"
        },
        "outputId": "33f683c6-44dc-4c83-ef19-096582ea5692"
      },
      "source": [
        "x = torch.zeros(5, 3, dtype=torch.long)\n",
        "print(x, x.dtype)"
      ],
      "execution_count": null,
      "outputs": [
        {
          "output_type": "stream",
          "name": "stdout",
          "text": [
            "tensor([[0, 0, 0],\n",
            "        [0, 0, 0],\n",
            "        [0, 0, 0],\n",
            "        [0, 0, 0],\n",
            "        [0, 0, 0]]) torch.int64\n"
          ]
        }
      ]
    },
    {
      "cell_type": "code",
      "metadata": {
        "id": "rqURe-YQI7Lb",
        "colab": {
          "base_uri": "https://localhost:8080/"
        },
        "outputId": "699d2270-d3b0-43af-a173-6341d291bb81"
      },
      "source": [
        "x = torch.zeros(5, 3, dtype=torch.float)\n",
        "print(x, x.dtype)"
      ],
      "execution_count": null,
      "outputs": [
        {
          "output_type": "stream",
          "name": "stdout",
          "text": [
            "tensor([[0., 0., 0.],\n",
            "        [0., 0., 0.],\n",
            "        [0., 0., 0.],\n",
            "        [0., 0., 0.],\n",
            "        [0., 0., 0.]]) torch.float32\n"
          ]
        }
      ]
    },
    {
      "cell_type": "code",
      "metadata": {
        "id": "NsKYnzQLgfPV",
        "colab": {
          "base_uri": "https://localhost:8080/"
        },
        "outputId": "8cc1b56a-1ab1-400b-f6f9-ae373654067d"
      },
      "source": [
        "x = torch.ones(5, 3)\n",
        "print(x, x.dtype)"
      ],
      "execution_count": null,
      "outputs": [
        {
          "output_type": "stream",
          "name": "stdout",
          "text": [
            "tensor([[1., 1., 1.],\n",
            "        [1., 1., 1.],\n",
            "        [1., 1., 1.],\n",
            "        [1., 1., 1.],\n",
            "        [1., 1., 1.]]) torch.float32\n"
          ]
        }
      ]
    },
    {
      "cell_type": "code",
      "metadata": {
        "id": "UdR4-Wvegotb",
        "colab": {
          "base_uri": "https://localhost:8080/"
        },
        "outputId": "dfa01023-e03b-4472-bafb-72e642de23ae"
      },
      "source": [
        "x = torch.ones(5, 3, dtype=torch.int)\n",
        "print(x, x.dtype)"
      ],
      "execution_count": null,
      "outputs": [
        {
          "output_type": "stream",
          "name": "stdout",
          "text": [
            "tensor([[1, 1, 1],\n",
            "        [1, 1, 1],\n",
            "        [1, 1, 1],\n",
            "        [1, 1, 1],\n",
            "        [1, 1, 1]], dtype=torch.int32) torch.int32\n"
          ]
        }
      ]
    },
    {
      "cell_type": "markdown",
      "metadata": {
        "id": "iMvAwPhWm_6D"
      },
      "source": [
        "Construct a tensor directly from data:\n",
        "\n"
      ]
    },
    {
      "cell_type": "code",
      "metadata": {
        "id": "a-xTLL5um_6E",
        "colab": {
          "base_uri": "https://localhost:8080/"
        },
        "outputId": "347a41a1-e283-4b39-901d-b6ac1a6f544b"
      },
      "source": [
        "x = torch.tensor([5.5, 3])\n",
        "print(x, x.dtype, sep=' , ')"
      ],
      "execution_count": null,
      "outputs": [
        {
          "output_type": "stream",
          "name": "stdout",
          "text": [
            "tensor([5.5000, 3.0000]) , torch.float32\n"
          ]
        }
      ]
    },
    {
      "cell_type": "markdown",
      "metadata": {
        "id": "bEfWk8jHm_6G"
      },
      "source": [
        "or create a tensor based on an existing tensor. These methods\n",
        "will reuse properties of the input tensor, e.g. dtype, unless\n",
        "new values are provided by user\n",
        "\n"
      ]
    },
    {
      "cell_type": "code",
      "metadata": {
        "id": "DVP3V3PZm_6H",
        "colab": {
          "base_uri": "https://localhost:8080/"
        },
        "outputId": "083fe22e-1231-4c5a-92aa-a319102857bf"
      },
      "source": [
        "# y = x.new_ones(5, 3, dtype=torch.double)      # new_* methods take in sizes\n",
        "y = x.new_ones(5, 3)                            # new_* methods take in sizes\n",
        "print(y, y.dtype, sep=' , ')\n",
        "\n",
        "z = torch.randn_like(x, dtype=torch.float)    # override dtype!\n",
        "print(z)                                      # result has the same size"
      ],
      "execution_count": null,
      "outputs": [
        {
          "output_type": "stream",
          "name": "stdout",
          "text": [
            "tensor([[1., 1., 1.],\n",
            "        [1., 1., 1.],\n",
            "        [1., 1., 1.],\n",
            "        [1., 1., 1.],\n",
            "        [1., 1., 1.]]) , torch.float32\n",
            "tensor([-1.3354,  1.0087])\n"
          ]
        }
      ]
    },
    {
      "cell_type": "markdown",
      "metadata": {
        "id": "8QQCwVvpgRpZ"
      },
      "source": [
        "# Operations\n",
        "There are multiple syntaxes for operations. In the following\n",
        "example, we will take a look at the addition operation.\n",
        "\n",
        "Addition: syntax 1\n"
      ]
    },
    {
      "cell_type": "code",
      "metadata": {
        "id": "M8kLj-AkkusL",
        "colab": {
          "base_uri": "https://localhost:8080/"
        },
        "outputId": "366de092-2b3d-46bb-e1a2-5b5081581d8e"
      },
      "source": [
        "x = torch.ones(5, 3)\n",
        "print(x)"
      ],
      "execution_count": null,
      "outputs": [
        {
          "output_type": "stream",
          "name": "stdout",
          "text": [
            "tensor([[1., 1., 1.],\n",
            "        [1., 1., 1.],\n",
            "        [1., 1., 1.],\n",
            "        [1., 1., 1.],\n",
            "        [1., 1., 1.]])\n"
          ]
        }
      ]
    },
    {
      "cell_type": "code",
      "metadata": {
        "id": "GVOmZ95mm_6N",
        "colab": {
          "base_uri": "https://localhost:8080/"
        },
        "outputId": "78849e7e-e856-4697-d504-d860a49618f3"
      },
      "source": [
        "y = torch.rand(5, 3)\n",
        "print(x + y)"
      ],
      "execution_count": null,
      "outputs": [
        {
          "output_type": "stream",
          "name": "stdout",
          "text": [
            "tensor([[1.6390, 1.4390, 1.1388],\n",
            "        [1.1094, 1.9890, 1.5862],\n",
            "        [1.9777, 1.5917, 1.9945],\n",
            "        [1.4183, 1.0867, 1.4419],\n",
            "        [1.8494, 1.6028, 1.0023]])\n"
          ]
        }
      ]
    },
    {
      "cell_type": "markdown",
      "metadata": {
        "id": "tLMd1gRjm_6P"
      },
      "source": [
        "Addition: syntax 2\n",
        "\n"
      ]
    },
    {
      "cell_type": "code",
      "metadata": {
        "id": "YtgpltxMm_6Q",
        "colab": {
          "base_uri": "https://localhost:8080/"
        },
        "outputId": "04c0fa24-705e-4618-a5bd-5871148c84b8"
      },
      "source": [
        "print(torch.add(x, y))"
      ],
      "execution_count": null,
      "outputs": [
        {
          "output_type": "stream",
          "name": "stdout",
          "text": [
            "tensor([[1.6390, 1.4390, 1.1388],\n",
            "        [1.1094, 1.9890, 1.5862],\n",
            "        [1.9777, 1.5917, 1.9945],\n",
            "        [1.4183, 1.0867, 1.4419],\n",
            "        [1.8494, 1.6028, 1.0023]])\n"
          ]
        }
      ]
    },
    {
      "cell_type": "markdown",
      "metadata": {
        "id": "NqmS8DcTm_6S"
      },
      "source": [
        "Addition: providing an output tensor as argument\n",
        "\n"
      ]
    },
    {
      "cell_type": "code",
      "metadata": {
        "id": "YCGO0Zmmk39U",
        "colab": {
          "base_uri": "https://localhost:8080/"
        },
        "outputId": "4f3c9404-a190-4d60-ecc4-4b6892ae4480"
      },
      "source": [
        "result = torch.empty(5, 3)\n",
        "print(result)\n",
        "\n",
        "torch.add(x, y, out=result)\n",
        "print(result)"
      ],
      "execution_count": null,
      "outputs": [
        {
          "output_type": "stream",
          "name": "stdout",
          "text": [
            "tensor([[1.2108e-34, 0.0000e+00, 1.1388e+00],\n",
            "        [1.1094e+00, 1.9890e+00, 1.5862e+00],\n",
            "        [1.9777e+00, 1.5917e+00, 1.9945e+00],\n",
            "        [1.4183e+00, 1.0867e+00, 1.4419e+00],\n",
            "        [1.8494e+00, 1.6028e+00, 1.0023e+00]])\n",
            "tensor([[1.6390, 1.4390, 1.1388],\n",
            "        [1.1094, 1.9890, 1.5862],\n",
            "        [1.9777, 1.5917, 1.9945],\n",
            "        [1.4183, 1.0867, 1.4419],\n",
            "        [1.8494, 1.6028, 1.0023]])\n"
          ]
        }
      ]
    },
    {
      "cell_type": "markdown",
      "metadata": {
        "id": "_T7sKvKTm_6V"
      },
      "source": [
        "## In-place \n",
        "\n",
        "Any operation that mutates a tensor in-place is post-fixed with an `_`. \\\\\n",
        "For example: `x.add_(y)`, `x.copy_(y)`, `x.t_()`, `x.zero_()` , `x.random_(n)` will change x.\n",
        "\n"
      ]
    },
    {
      "cell_type": "code",
      "metadata": {
        "id": "_U7wrWCQm_6V",
        "colab": {
          "base_uri": "https://localhost:8080/"
        },
        "outputId": "86fb9b08-4f9a-4e19-a2cb-44a88d905be4"
      },
      "source": [
        "# adds x to y\n",
        "y.add_(x) # y = y + x\n",
        "print(y)"
      ],
      "execution_count": null,
      "outputs": [
        {
          "output_type": "stream",
          "name": "stdout",
          "text": [
            "tensor([[1.6390, 1.4390, 1.1388],\n",
            "        [1.1094, 1.9890, 1.5862],\n",
            "        [1.9777, 1.5917, 1.9945],\n",
            "        [1.4183, 1.0867, 1.4419],\n",
            "        [1.8494, 1.6028, 1.0023]])\n"
          ]
        }
      ]
    },
    {
      "cell_type": "code",
      "metadata": {
        "id": "anw8hMcZXGTE",
        "colab": {
          "base_uri": "https://localhost:8080/"
        },
        "outputId": "b16ed735-4e1c-4fa5-8a7d-ce8819b0d9c1"
      },
      "source": [
        "z = y.clone()\n",
        "print(z)"
      ],
      "execution_count": null,
      "outputs": [
        {
          "output_type": "stream",
          "name": "stdout",
          "text": [
            "tensor([[1.6390, 1.4390, 1.1388],\n",
            "        [1.1094, 1.9890, 1.5862],\n",
            "        [1.9777, 1.5917, 1.9945],\n",
            "        [1.4183, 1.0867, 1.4419],\n",
            "        [1.8494, 1.6028, 1.0023]])\n"
          ]
        }
      ]
    },
    {
      "cell_type": "code",
      "metadata": {
        "id": "lgbem7x8Ykzl",
        "colab": {
          "base_uri": "https://localhost:8080/"
        },
        "outputId": "012b4eab-2e81-4a11-f75d-ddb7253f1093"
      },
      "source": [
        "y.zero_()\n",
        "print(y)"
      ],
      "execution_count": null,
      "outputs": [
        {
          "output_type": "stream",
          "name": "stdout",
          "text": [
            "tensor([[0., 0., 0.],\n",
            "        [0., 0., 0.],\n",
            "        [0., 0., 0.],\n",
            "        [0., 0., 0.],\n",
            "        [0., 0., 0.]])\n"
          ]
        }
      ]
    },
    {
      "cell_type": "markdown",
      "metadata": {
        "id": "d9FrQLZgm_6Z"
      },
      "source": [
        "## Resizing\n",
        "If you want to resize/reshape tensor, you can use ``torch.view``:\n",
        "\n",
        "Refer to : \n",
        "- [reshape vs. view](https://discuss.pytorch.org/t/difference-between-view-reshape-and-permute/54157)\n",
        "- [Contiguous tensor](https://stackoverflow.com/questions/26998223/what-is-the-difference-between-contiguous-and-non-contiguous-arrays/26999092#26999092)\n",
        "\n",
        "In short, \n",
        "`torch.reshape` may copy the original tensor or not while `torch.view` shares the original one.\n"
      ]
    },
    {
      "cell_type": "code",
      "metadata": {
        "id": "nqFtYvj_mjVa",
        "colab": {
          "base_uri": "https://localhost:8080/"
        },
        "outputId": "381fd719-a280-4f2d-c872-3ab30fa2fb68"
      },
      "source": [
        "x = torch.rand(4, 4)\n",
        "print(x.shape, x.numel(), sep=' , ')\n",
        "\n",
        "y = x.view(16) # y = x.view(x.numel())\n",
        "print(y.shape, y, sep=' , ')"
      ],
      "execution_count": null,
      "outputs": [
        {
          "output_type": "stream",
          "name": "stdout",
          "text": [
            "torch.Size([4, 4]) , 16\n",
            "torch.Size([16]) , tensor([0.9617, 0.6728, 0.4774, 0.6617, 0.3997, 0.6490, 0.8560, 0.4545, 0.8887,\n",
            "        0.8831, 0.3430, 0.6140, 0.0721, 0.7838, 0.8405, 0.2161])\n"
          ]
        }
      ]
    },
    {
      "cell_type": "code",
      "source": [
        "# # x.shape : [batch_size, 64, 7, 7]\n",
        "# batch_size = 8\n",
        "# x = torch.rand(batch_size, 100, 7, 7)\n",
        "# print(f\"x shape: {x.shape}\")\n",
        "\n",
        "# x_new = x.view(batch_size, -1) # [batch_size, 100*7*7=4900]\n",
        "# print(f\"x_new shape: {x_new.shape}\")\n",
        "# print(x.view(batch_size, 100*7*7).shape)"
      ],
      "metadata": {
        "colab": {
          "base_uri": "https://localhost:8080/"
        },
        "id": "a_T5u8y0UPRj",
        "outputId": "47417aa6-a2df-4910-fdb8-1eb5fb4fcfca"
      },
      "execution_count": null,
      "outputs": [
        {
          "output_type": "stream",
          "name": "stdout",
          "text": [
            "x_new shape: torch.Size([8, 4900])\n",
            "torch.Size([8, 4900])\n"
          ]
        }
      ]
    },
    {
      "cell_type": "code",
      "metadata": {
        "id": "cjBa-YzOnaHT",
        "colab": {
          "base_uri": "https://localhost:8080/"
        },
        "outputId": "117129c5-7274-444b-b466-fc64685111c3"
      },
      "source": [
        "z = x.view(-1, 8) # the size -1 is inffered from other dimensions\n",
        "zz = x.view(-1, 2) # the size -1 is inffered from other dimensions\n",
        "print(x.shape, z.shape, zz.shape)"
      ],
      "execution_count": null,
      "outputs": [
        {
          "output_type": "stream",
          "name": "stdout",
          "text": [
            "torch.Size([4, 4]) torch.Size([2, 8]) torch.Size([8, 2])\n"
          ]
        }
      ]
    },
    {
      "cell_type": "markdown",
      "metadata": {
        "id": "3Tt_ys2Ym_6c"
      },
      "source": [
        "If you have a one element tensor, use ``.item()`` to get the value as a\n",
        "Python number\n",
        "\n"
      ]
    },
    {
      "cell_type": "code",
      "metadata": {
        "id": "t9I3ARwtm_6c",
        "colab": {
          "base_uri": "https://localhost:8080/"
        },
        "outputId": "057bdb24-0692-4d8a-d145-d2407f610e8a"
      },
      "source": [
        "x = torch.randn(1)\n",
        "print(x)\n",
        "print(x.item())"
      ],
      "execution_count": null,
      "outputs": [
        {
          "output_type": "stream",
          "name": "stdout",
          "text": [
            "tensor([0.2086])\n",
            "0.20856648683547974\n"
          ]
        }
      ]
    },
    {
      "cell_type": "markdown",
      "metadata": {
        "id": "7zO5xsAWoqT7"
      },
      "source": [
        "## Broadcasting\n",
        "\n",
        "In short, if a PyTorch operation supports broadcast, then its Tensor arguments can be automatically expanded to be of equal sizes (without making copies of the data).\n",
        "\n",
        "![대체 텍스트](https://cdn-images-1.medium.com/max/1000/0*lo4N0ZZvMFc903Ab.png)\n",
        "\n",
        "\n",
        "### General semantics \n",
        "\n",
        "Two tensors are “broadcastable” if the following rules hold:\n",
        "\n",
        "- Each tensor has at least one dimension.\n",
        "\n",
        "- When iterating over the dimension sizes, starting at the trailing dimension, the dimension sizes must either be \n",
        "    1. equal\n",
        "    2. one of them is 1 \n",
        "    3. one of them does not exist."
      ]
    },
    {
      "cell_type": "code",
      "metadata": {
        "id": "jYWIk6tup3mi",
        "colab": {
          "base_uri": "https://localhost:8080/"
        },
        "outputId": "43b029fc-b766-4bb6-ae06-42759fe8b115"
      },
      "source": [
        "# same shapes are always broadcastable (i.e. the above rules always hold)\n",
        "x=torch.empty(5,7,3)\n",
        "y=torch.empty(5,7,3)\n",
        "\n",
        "\n",
        "x=torch.empty((0,))\n",
        "y=torch.empty(2,2)\n",
        "# x and y are not broadcastable, because x does not have at least 1 dimension\n",
        "\n",
        "# can line up trailing dimensions\n",
        "x=torch.empty(5,3,4,1)\n",
        "y=torch.empty(  3,1,1) # [3, 1, 1] -> [5, 3, 1, 1]\n",
        "z = x + y\n",
        "print(z.shape)\n",
        "# x and y are broadcastable.\n",
        "# 1st trailing dimension: both have size 1\n",
        "# 2nd trailing dimension: y has size 1\n",
        "# 3rd trailing dimension: x size == y size\n",
        "# 4th trailing dimension: y dimension doesn't exist\n",
        "\n",
        "# but:\n",
        "x=torch.empty(5,2,4,1)\n",
        "y=torch.empty(  3,1,1)\n",
        "# x and y are not broadcastable, because in the 3rd trailing dimension 2 != 3"
      ],
      "execution_count": null,
      "outputs": [
        {
          "output_type": "stream",
          "name": "stdout",
          "text": [
            "torch.Size([5, 3, 4, 1])\n"
          ]
        }
      ]
    },
    {
      "cell_type": "code",
      "metadata": {
        "id": "m2h-KJn-xyjN",
        "colab": {
          "base_uri": "https://localhost:8080/"
        },
        "outputId": "5a4c1fae-d501-47a5-c621-61f9cfac1805"
      },
      "source": [
        "# Example 1. : one of them does not exist\n",
        "x = torch.arange(3) #( , 3)\n",
        "y = torch.tensor(5) #( ,  ) : [] -> [3] : 5 -> [5, 5, 5]\n",
        "print(x.shape, y.shape)\n",
        "print(x, y)\n",
        "\n",
        "print(x + y)"
      ],
      "execution_count": null,
      "outputs": [
        {
          "output_type": "stream",
          "name": "stdout",
          "text": [
            "torch.Size([3]) torch.Size([])\n",
            "tensor([0, 1, 2]) tensor(5)\n",
            "tensor([5, 6, 7])\n"
          ]
        }
      ]
    },
    {
      "cell_type": "code",
      "metadata": {
        "id": "S3m2IN1qx4Ko",
        "colab": {
          "base_uri": "https://localhost:8080/"
        },
        "outputId": "71c67545-0c74-464e-bc2c-9f0c6dad5f7a"
      },
      "source": [
        "#Example 2. : one of them is 1 + one of them doe not exist\n",
        "x = torch.arange(3).view(3,1) # (3,1)\n",
        "y = torch.arange(3)           # ( ,3)\n",
        "print(x.shape, y.shape)\n",
        "\n",
        "print(x + y)"
      ],
      "execution_count": null,
      "outputs": [
        {
          "output_type": "stream",
          "name": "stdout",
          "text": [
            "torch.Size([3, 1]) torch.Size([3])\n",
            "tensor([[0, 1, 2],\n",
            "        [1, 2, 3],\n",
            "        [2, 3, 4]])\n"
          ]
        }
      ]
    },
    {
      "cell_type": "code",
      "metadata": {
        "id": "KGrgmDF6x7CJ",
        "colab": {
          "base_uri": "https://localhost:8080/"
        },
        "outputId": "359f13d4-5aa2-443d-ff73-f4340c2d717a"
      },
      "source": [
        "#Example 3. : equal + one of them is 1 + one of them doe not exist\n",
        "x = torch.zeros(2, 2, 3)  # (2, 2, 3)\n",
        "y = torch.ones(1, 3)      # ( , 1, 3)\n",
        "print(x.shape, y.shape)\n",
        "\n",
        "print(x + y, (x+y).shape)"
      ],
      "execution_count": null,
      "outputs": [
        {
          "output_type": "stream",
          "name": "stdout",
          "text": [
            "torch.Size([2, 2, 3]) torch.Size([1, 3])\n",
            "tensor([[[1., 1., 1.],\n",
            "         [1., 1., 1.]],\n",
            "\n",
            "        [[1., 1., 1.],\n",
            "         [1., 1., 1.]]]) torch.Size([2, 2, 3])\n"
          ]
        }
      ]
    },
    {
      "cell_type": "code",
      "source": [
        "# Practical example: learning_rate * gradients of loss\n",
        "grad_w = torch.rand(8, 3, 3) # e.g., weight's shape: [16, 8, 3, 3]\n",
        "lr = 0.1 # [0.1] --> [0.1, 0.1, 0.1]\n",
        "print(grad_w.shape)\n",
        "print((lr * grad_w).shape)"
      ],
      "metadata": {
        "colab": {
          "base_uri": "https://localhost:8080/"
        },
        "id": "KrZ_ps-PpJUR",
        "outputId": "a44ddae9-747a-44fa-df38-ff364389ba40"
      },
      "execution_count": null,
      "outputs": [
        {
          "output_type": "stream",
          "name": "stdout",
          "text": [
            "torch.Size([8, 3, 3])\n",
            "torch.Size([8, 3, 3])\n"
          ]
        }
      ]
    },
    {
      "cell_type": "markdown",
      "metadata": {
        "id": "6VuNXEpRm_6e"
      },
      "source": [
        "**Read later:**\n",
        "\n",
        "\n",
        "  100+ Tensor operations, including transposing, indexing, slicing,\n",
        "  mathematical operations, linear algebra, random numbers, etc.,\n",
        "  are described [here](https://pytorch.org/docs/torch).\n",
        "\n",
        "\n"
      ]
    },
    {
      "cell_type": "markdown",
      "metadata": {
        "id": "G_ab9vEGn-ao"
      },
      "source": [
        "# NumPy Bridge\n",
        "\n",
        "\n",
        "Converting a Torch Tensor to a NumPy array and vice versa is a breeze.\n",
        "\n",
        "The Torch Tensor and NumPy array will share their underlying memory\n",
        "locations (if the Torch Tensor is on CPU), and changing one will change\n",
        "the other.\n",
        "\n",
        "Converting a Torch Tensor to a NumPy Array"
      ]
    },
    {
      "cell_type": "code",
      "metadata": {
        "id": "0KETYQezoNIy",
        "colab": {
          "base_uri": "https://localhost:8080/"
        },
        "outputId": "114ce1e9-17e2-45d0-90ba-a6e81396e61f"
      },
      "source": [
        "a = torch.ones(5)\n",
        "print(a)"
      ],
      "execution_count": null,
      "outputs": [
        {
          "output_type": "stream",
          "name": "stdout",
          "text": [
            "tensor([1., 1., 1., 1., 1.])\n"
          ]
        }
      ]
    },
    {
      "cell_type": "code",
      "metadata": {
        "id": "UoVgO9yzoRgq",
        "colab": {
          "base_uri": "https://localhost:8080/"
        },
        "outputId": "aaffe36f-35d3-4546-ae33-f25edc6c5527"
      },
      "source": [
        "b = a.numpy()\n",
        "print(b)"
      ],
      "execution_count": null,
      "outputs": [
        {
          "output_type": "stream",
          "name": "stdout",
          "text": [
            "[1. 1. 1. 1. 1.]\n"
          ]
        }
      ]
    },
    {
      "cell_type": "markdown",
      "metadata": {
        "id": "O5xFfTYom_6j"
      },
      "source": [
        "See how the numpy array changed in value.\n",
        "\n"
      ]
    },
    {
      "cell_type": "code",
      "metadata": {
        "id": "K7MGFB59oW26",
        "colab": {
          "base_uri": "https://localhost:8080/"
        },
        "outputId": "65b277b4-f124-4c3e-bdc1-8acece462897"
      },
      "source": [
        "a.add_(1)\n",
        "print(a)"
      ],
      "execution_count": null,
      "outputs": [
        {
          "output_type": "stream",
          "name": "stdout",
          "text": [
            "tensor([2., 2., 2., 2., 2.])\n"
          ]
        }
      ]
    },
    {
      "cell_type": "code",
      "metadata": {
        "id": "P9E05jZdyc5D",
        "colab": {
          "base_uri": "https://localhost:8080/"
        },
        "outputId": "a7647eaf-1fd0-4949-92d2-aa4333619a85"
      },
      "source": [
        "a.add_(1)\n",
        "print(a)\n",
        "print(b)"
      ],
      "execution_count": null,
      "outputs": [
        {
          "output_type": "stream",
          "name": "stdout",
          "text": [
            "tensor([3., 3., 3., 3., 3.])\n",
            "[3. 3. 3. 3. 3.]\n"
          ]
        }
      ]
    },
    {
      "cell_type": "markdown",
      "metadata": {
        "id": "813DxT12m_6l"
      },
      "source": [
        "Converting NumPy Array to Torch Tensor\n",
        "\n",
        "See how changing the np array changed the Torch Tensor automatically\n",
        "\n"
      ]
    },
    {
      "cell_type": "code",
      "metadata": {
        "id": "LVkKb7U1yqUG",
        "colab": {
          "base_uri": "https://localhost:8080/"
        },
        "outputId": "26fc672c-7115-4f46-b198-307612aefcaa"
      },
      "source": [
        "import numpy as np\n",
        "\n",
        "a = np.ones(5)\n",
        "b = torch.from_numpy(a)\n",
        "print(a, b)\n",
        "\n",
        "np.add(a, 1, out=a)\n",
        "print(a, b)"
      ],
      "execution_count": null,
      "outputs": [
        {
          "output_type": "stream",
          "name": "stdout",
          "text": [
            "[1. 1. 1. 1. 1.] tensor([1., 1., 1., 1., 1.], dtype=torch.float64)\n",
            "[2. 2. 2. 2. 2.] tensor([2., 2., 2., 2., 2.], dtype=torch.float64)\n"
          ]
        }
      ]
    },
    {
      "cell_type": "markdown",
      "metadata": {
        "id": "yn8_AQQdm_6n"
      },
      "source": [
        "All the Tensors on the CPU except a CharTensor support converting to\n",
        "NumPy and back.\n"
      ]
    },
    {
      "cell_type": "markdown",
      "metadata": {
        "id": "tiLTj652zKBN"
      },
      "source": [
        "# CUDA Tensors\n",
        "\n",
        "Tensors can be moved onto any device using the ``.to`` method.\n"
      ]
    },
    {
      "cell_type": "code",
      "metadata": {
        "id": "NsKUX3lzzPji",
        "colab": {
          "base_uri": "https://localhost:8080/"
        },
        "outputId": "8878cbf8-f370-45df-9225-a7a58d450135"
      },
      "source": [
        "x = torch.zeros(2,2)\n",
        "print(\"x's device : \", x.device)\n",
        "\n",
        "# let us run this cell only if CUDA is available\n",
        "# We will use ``torch.device`` objects to move tensors in and out of GPU\n",
        "if torch.cuda.is_available():\n",
        "    device = torch.device(\"cuda\")           # a CUDA device object\n",
        "    y = torch.ones_like(x, device=device)   # directly create a tensor on GPU\n",
        "    print(\"y's device : \", y.device)        \n",
        "\n",
        "    x = x.to(device)                        # or just use strings ``.to(\"cuda\")``\n",
        "    print(\"x's device : \", x.device)\n",
        "\n",
        "    z = x + y\n",
        "    print(f\"z's device: {z.device} & z's dtype: {z.dtype}\" )\n",
        "    \n",
        "    z.to(\"cpu\", torch.double)        # ``.to`` can also change dtype together!\n",
        "    print(f\"z's device: {z.device} & z's dtype: {z.dtype}\" )\n",
        "    \n",
        "    z = z.to(\"cpu\", torch.double)\n",
        "    print(f\"z's device: {z.device} & z's dtype: {z.dtype}\" )"
      ],
      "execution_count": null,
      "outputs": [
        {
          "output_type": "stream",
          "name": "stdout",
          "text": [
            "x's device :  cpu\n",
            "y's device :  cuda:0\n",
            "x's device :  cuda:0\n",
            "z's device: cuda:0 & z's dtype: torch.float32\n",
            "z's device: cpu & z's dtype: torch.float64\n"
          ]
        }
      ]
    },
    {
      "cell_type": "code",
      "source": [
        "# w = torch.rand(2, 2)\n",
        "# print(\"w's device: \", w.device) # \"cpu\"\n",
        "\n",
        "# zz = w + x # RuntimeError: Expected all tensors to be on the same device, but found at least two devices, cuda:0 and cpu!\n"
      ],
      "metadata": {
        "id": "N_txMv6gh6uo"
      },
      "execution_count": null,
      "outputs": []
    },
    {
      "cell_type": "markdown",
      "metadata": {
        "id": "DhsyqksmRwQt"
      },
      "source": [
        "# AutoGrad\n",
        "\n",
        "Autograd: Automatic Differentiation\n",
        "===================================\n",
        "\n",
        "Central to all neural networks in PyTorch is the ``autograd`` package.\n",
        "Let’s first briefly visit this, and we will then go to training our\n",
        "first neural network.\n",
        "\n",
        "\n",
        "The ``autograd`` package provides automatic differentiation for all operations\n",
        "on Tensors. It is a define-by-run framework, which means that your backprop is\n",
        "defined by how your code is run, and that every single iteration can be\n",
        "different.\n",
        "\n",
        "Let us see this in more simple terms with some examples.\n",
        "\n",
        "Tensor\n",
        "--------\n",
        "\n",
        "``torch.Tensor`` is the central class of the package. If you set its attribute\n",
        "``.requires_grad`` as ``True``, it starts to track all operations on it. When\n",
        "you finish your computation you can call ``.backward()`` and have all the\n",
        "gradients computed automatically. The gradient for this tensor will be\n",
        "accumulated into ``.grad`` attribute.\n",
        "\n",
        "To stop a tensor from tracking history, you can call ``.detach()`` to detach\n",
        "it from the computation history, and to prevent future computation from being\n",
        "tracked.\n",
        "\n",
        "To prevent tracking history (and using memory), you can also wrap the code block\n",
        "in ``with torch.no_grad():``. This can be particularly helpful when evaluating a\n",
        "model because the model may have trainable parameters with\n",
        "``requires_grad=True``, but for which we don't need the gradients.\n",
        "\n",
        "There’s one more class which is very important for autograd\n",
        "implementation - a ``Function``.\n",
        "\n",
        "``Tensor`` and ``Function`` are interconnected and build up an acyclic\n",
        "graph, that encodes a complete history of computation. Each tensor has\n",
        "a ``.grad_fn`` attribute that references a ``Function`` that has created\n",
        "the ``Tensor`` (except for Tensors created by the user - their\n",
        "``grad_fn is None``).\n",
        "\n",
        "If you want to compute the derivatives, you can call ``.backward()`` on\n",
        "a ``Tensor``. If ``Tensor`` is a scalar (i.e. it holds a one element\n",
        "data), you don’t need to specify any arguments to ``backward()``,\n",
        "however if it has more elements, you need to specify a ``gradient``\n",
        "argument that is a tensor of matching shape.\n",
        "\n",
        "\n",
        "\n"
      ]
    },
    {
      "cell_type": "markdown",
      "metadata": {
        "id": "hAxRclBrSVQZ"
      },
      "source": [
        "Create a tensor and set ``requires_grad=True`` to track computation with it\n",
        "\n"
      ]
    },
    {
      "cell_type": "code",
      "source": [
        "x = torch.ones(2, 2)\n",
        "print(x.requires_grad)\n",
        "print(x.device)"
      ],
      "metadata": {
        "colab": {
          "base_uri": "https://localhost:8080/"
        },
        "id": "3FruhSk9cC3o",
        "outputId": "64a5e36e-9c40-46b5-c3f8-5f9f9024a780"
      },
      "execution_count": null,
      "outputs": [
        {
          "output_type": "stream",
          "name": "stdout",
          "text": [
            "False\n",
            "cpu\n"
          ]
        }
      ]
    },
    {
      "cell_type": "code",
      "metadata": {
        "id": "-pAIagsoRyNP",
        "colab": {
          "base_uri": "https://localhost:8080/"
        },
        "outputId": "2875dde4-2366-4325-f183-c1fc2fc1ba25"
      },
      "source": [
        "x = torch.ones(2, 2, requires_grad=True)\n",
        "print(x)"
      ],
      "execution_count": null,
      "outputs": [
        {
          "output_type": "stream",
          "name": "stdout",
          "text": [
            "tensor([[1., 1.],\n",
            "        [1., 1.]], requires_grad=True)\n"
          ]
        }
      ]
    },
    {
      "cell_type": "markdown",
      "metadata": {
        "id": "udxZ6GLiSyhH"
      },
      "source": [
        "Do a tensor operation:"
      ]
    },
    {
      "cell_type": "code",
      "metadata": {
        "id": "1W5XHcJ_SYD4",
        "colab": {
          "base_uri": "https://localhost:8080/"
        },
        "outputId": "8c00f41e-7781-49da-8415-4f869969def1"
      },
      "source": [
        "y = x + 2\n",
        "print(y)"
      ],
      "execution_count": null,
      "outputs": [
        {
          "output_type": "stream",
          "name": "stdout",
          "text": [
            "tensor([[3., 3.],\n",
            "        [3., 3.]], grad_fn=<AddBackward0>)\n"
          ]
        }
      ]
    },
    {
      "cell_type": "markdown",
      "metadata": {
        "id": "59qtUdl4Snzy"
      },
      "source": [
        "``y`` was created as a result of an operation, so it has a ``grad_fn``."
      ]
    },
    {
      "cell_type": "code",
      "metadata": {
        "id": "q6z890m-TEk3",
        "colab": {
          "base_uri": "https://localhost:8080/"
        },
        "outputId": "d5f758a9-448f-4e39-e634-6d32e92a0fcb"
      },
      "source": [
        "print(y.grad_fn)"
      ],
      "execution_count": null,
      "outputs": [
        {
          "output_type": "stream",
          "name": "stdout",
          "text": [
            "<AddBackward0 object at 0x7f715cc148b0>\n"
          ]
        }
      ]
    },
    {
      "cell_type": "code",
      "metadata": {
        "id": "H8maa4CCTNLz",
        "colab": {
          "base_uri": "https://localhost:8080/"
        },
        "outputId": "e68ee1bf-200d-4655-a3be-77dda5522dc1"
      },
      "source": [
        "z = y * y * 3 # z = 3*(x+2)^2 \n",
        "out = z.mean()\n",
        "\n",
        "print(z)\n",
        "print(out)"
      ],
      "execution_count": null,
      "outputs": [
        {
          "output_type": "stream",
          "name": "stdout",
          "text": [
            "tensor([[27., 27.],\n",
            "        [27., 27.]], grad_fn=<MulBackward0>)\n",
            "tensor(27., grad_fn=<MeanBackward0>)\n"
          ]
        }
      ]
    },
    {
      "cell_type": "markdown",
      "metadata": {
        "id": "L1csuPloThhk"
      },
      "source": [
        "``.requires_grad_( ... )`` changes an existing Tensor's ``requires_grad``\n",
        "flag in-place. The input flag defaults to ``False`` if not given.\n",
        "\n"
      ]
    },
    {
      "cell_type": "code",
      "metadata": {
        "id": "CzzTKvbrTTLX",
        "colab": {
          "base_uri": "https://localhost:8080/"
        },
        "outputId": "7e36786c-bca8-4066-b90a-166f591a45ef"
      },
      "source": [
        "a = torch.randn(2, 2)\n",
        "a = ((a * 3) / (a - 1))\n",
        "print(a.requires_grad)"
      ],
      "execution_count": null,
      "outputs": [
        {
          "output_type": "stream",
          "name": "stdout",
          "text": [
            "False\n"
          ]
        }
      ]
    },
    {
      "cell_type": "code",
      "metadata": {
        "id": "SpLT2lCcTyY_",
        "colab": {
          "base_uri": "https://localhost:8080/"
        },
        "outputId": "69f2706a-668c-4e46-b3a4-ba5951b6372e"
      },
      "source": [
        "a.requires_grad_(True)\n",
        "print(a.requires_grad)"
      ],
      "execution_count": null,
      "outputs": [
        {
          "output_type": "stream",
          "name": "stdout",
          "text": [
            "True\n"
          ]
        }
      ]
    },
    {
      "cell_type": "code",
      "metadata": {
        "id": "pb1UEH4ET4ZD",
        "colab": {
          "base_uri": "https://localhost:8080/"
        },
        "outputId": "0b13e8da-982c-4472-85b5-bc3f7c315ae4"
      },
      "source": [
        "b = (a * a).sum()\n",
        "print(b.grad_fn)"
      ],
      "execution_count": null,
      "outputs": [
        {
          "output_type": "stream",
          "name": "stdout",
          "text": [
            "<SumBackward0 object at 0x7f715cc32520>\n"
          ]
        }
      ]
    },
    {
      "cell_type": "markdown",
      "metadata": {
        "id": "1FvxU2yrUAqe"
      },
      "source": [
        "Gradients\n",
        "---------\n",
        "Let's backprop now.\n",
        "Because ``out`` contains a single scalar, ``out.backward()`` is\n",
        "equivalent to ``out.backward(torch.tensor(1.))``.\n",
        "\n"
      ]
    },
    {
      "cell_type": "code",
      "metadata": {
        "id": "6cj1lIoCT9M4"
      },
      "source": [
        "out.backward()"
      ],
      "execution_count": null,
      "outputs": []
    },
    {
      "cell_type": "markdown",
      "metadata": {
        "id": "EZpreJnIUUo0"
      },
      "source": [
        "Print gradients $\\frac{\\partial o}{\\partial x}$\n",
        "\n",
        "\n"
      ]
    },
    {
      "cell_type": "code",
      "metadata": {
        "id": "DP5yZ6hPURdF",
        "colab": {
          "base_uri": "https://localhost:8080/"
        },
        "outputId": "31cbb629-109f-4f6c-9efe-cc1b1c579caa"
      },
      "source": [
        "print(x.grad)"
      ],
      "execution_count": null,
      "outputs": [
        {
          "output_type": "stream",
          "name": "stdout",
          "text": [
            "tensor([[4.5000, 4.5000],\n",
            "        [4.5000, 4.5000]])\n"
          ]
        }
      ]
    },
    {
      "cell_type": "markdown",
      "metadata": {
        "id": "lZs0jA8eUbC2"
      },
      "source": [
        "You should have got a matrix of ``4.5``. Let’s call the ``out``\n",
        "*Tensor* “$o$”.\n",
        "We have that $o = \\frac{1}{4}\\sum_i z_i$,\n",
        "$z_i = 3(x_i+2)^2$ and $z_i\\bigr\\rvert_{x_i=1} = 27$.\n",
        "Therefore,\n",
        "$\\frac{\\partial o}{\\partial x_i} = \\frac{3}{2}(x_i+2)$, hence\n",
        "$\\frac{\\partial o}{\\partial x_i}\\bigr\\rvert_{x_i=1} = \\frac{9}{2} = 4.5$.\n",
        "\n"
      ]
    },
    {
      "cell_type": "markdown",
      "metadata": {
        "id": "0t6itlWVUvuS"
      },
      "source": [
        "You can also stop autograd from tracking history on Tensors\n",
        "with ``.requires_grad=True`` either by wrapping the code block in\n",
        "``with torch.no_grad():``\n",
        "\n"
      ]
    },
    {
      "cell_type": "code",
      "metadata": {
        "id": "YKHQ8eZAUXtA",
        "colab": {
          "base_uri": "https://localhost:8080/"
        },
        "outputId": "6513dbf3-ad9b-4c68-a154-f07653c08c88"
      },
      "source": [
        "print(x.requires_grad)\n",
        "print((x**2).requires_grad)\n",
        "\n",
        "with torch.no_grad():\n",
        "    print((x**2).requires_grad)"
      ],
      "execution_count": null,
      "outputs": [
        {
          "output_type": "stream",
          "name": "stdout",
          "text": [
            "True\n",
            "True\n",
            "False\n"
          ]
        }
      ]
    },
    {
      "cell_type": "markdown",
      "metadata": {
        "id": "H1oXnF8nVMC_"
      },
      "source": [
        "Or by using ``.detach()`` to get a new Tensor with the same\n",
        "content but that does not require gradients:\n",
        "\n"
      ]
    },
    {
      "cell_type": "code",
      "metadata": {
        "id": "IkQePOdWUylw",
        "colab": {
          "base_uri": "https://localhost:8080/"
        },
        "outputId": "9190b747-f9ca-466c-c995-cdbb554762b0"
      },
      "source": [
        "print(x.requires_grad)\n",
        "print(x.grad)"
      ],
      "execution_count": null,
      "outputs": [
        {
          "output_type": "stream",
          "name": "stdout",
          "text": [
            "True\n",
            "tensor([[4.5000, 4.5000],\n",
            "        [4.5000, 4.5000]])\n"
          ]
        }
      ]
    },
    {
      "cell_type": "code",
      "metadata": {
        "id": "fjpDrwj6VQ66",
        "colab": {
          "base_uri": "https://localhost:8080/"
        },
        "outputId": "7e29abd1-d467-40b4-b2ab-7b37d3a53825"
      },
      "source": [
        "y = x.detach()\n",
        "print(y.requires_grad)\n",
        "print(y.grad)"
      ],
      "execution_count": null,
      "outputs": [
        {
          "output_type": "stream",
          "name": "stdout",
          "text": [
            "False\n",
            "None\n"
          ]
        }
      ]
    },
    {
      "cell_type": "code",
      "metadata": {
        "id": "Z4hBgf-jVicx",
        "colab": {
          "base_uri": "https://localhost:8080/"
        },
        "outputId": "4d43ac69-e22a-4368-e838-eaa47456a666"
      },
      "source": [
        "print(x.eq(y).all())"
      ],
      "execution_count": null,
      "outputs": [
        {
          "output_type": "stream",
          "name": "stdout",
          "text": [
            "tensor(True)\n"
          ]
        }
      ]
    },
    {
      "cell_type": "markdown",
      "source": [
        "Efficient inference (testing) with torch.no_grad()\n",
        "--------"
      ],
      "metadata": {
        "id": "7kBhGHO7tj4B"
      }
    },
    {
      "cell_type": "markdown",
      "source": [
        "To prevent tracking history (and using memory), you can also wrap the code block in with `torch.no_grad()`\n",
        "\n",
        "Situation: when **gradient calculation is NOT required** e.g., inference\\\n",
        "Solution: use `torch.no_grad()`, then torch doesn't generate computational graph for back propagation, therefore it is **much faster.**"
      ],
      "metadata": {
        "id": "DFAV8UB0tn-V"
      }
    },
    {
      "cell_type": "code",
      "source": [
        "with torch.no_grad():\n",
        "    x = torch.ones(2, 2, requires_grad=True)\n",
        "    y = x + 2\n",
        "    z = y * y * 3\n",
        "    out = z.mean()"
      ],
      "metadata": {
        "id": "8SVZc6nFtmXZ"
      },
      "execution_count": null,
      "outputs": []
    },
    {
      "cell_type": "code",
      "source": [
        "out"
      ],
      "metadata": {
        "colab": {
          "base_uri": "https://localhost:8080/"
        },
        "id": "vcnPItoetwms",
        "outputId": "e4922165-257f-4ec4-f71d-6b545bab061d"
      },
      "execution_count": null,
      "outputs": [
        {
          "output_type": "execute_result",
          "data": {
            "text/plain": [
              "tensor(27.)"
            ]
          },
          "metadata": {},
          "execution_count": 119
        }
      ]
    },
    {
      "cell_type": "code",
      "source": [
        "# out.backward() ## ERROR!!!!: we used torch.no_grad()!!"
      ],
      "metadata": {
        "id": "ek3aNvM9txil"
      },
      "execution_count": null,
      "outputs": []
    },
    {
      "cell_type": "markdown",
      "source": [
        "# Using pre-defined modules (subset of models) in PyTorch"
      ],
      "metadata": {
        "id": "4vHhxaYluL9B"
      }
    },
    {
      "cell_type": "code",
      "source": [
        "import torch.nn as nn\n",
        "\n",
        "# X's shape: [2, 3]\n",
        "X = torch.tensor([[1., 2., 3.], [4., 5., 6.]])\n",
        "\n",
        "print (X)\n",
        "print (X.shape)"
      ],
      "metadata": {
        "colab": {
          "base_uri": "https://localhost:8080/"
        },
        "id": "C0aEIdHMvAgu",
        "outputId": "8b9a8fd1-4725-4536-fc19-618b42763461"
      },
      "execution_count": null,
      "outputs": [
        {
          "output_type": "stream",
          "name": "stdout",
          "text": [
            "tensor([[1., 2., 3.],\n",
            "        [4., 5., 6.]])\n",
            "torch.Size([2, 3])\n"
          ]
        }
      ]
    },
    {
      "cell_type": "code",
      "source": [
        "# Linear layer (i.e., fully-conneted layer)\n",
        "# input dim 3, output dim 1\n",
        "\n",
        "linear_fn = nn.Linear(3, 1)"
      ],
      "metadata": {
        "id": "yFSThRx5uNtp"
      },
      "execution_count": null,
      "outputs": []
    },
    {
      "cell_type": "code",
      "source": [
        "linear_fn  # WX + b"
      ],
      "metadata": {
        "colab": {
          "base_uri": "https://localhost:8080/"
        },
        "id": "jctQNIHwuY7o",
        "outputId": "8c1bebfc-90ee-42c4-c95f-48acb84910dc"
      },
      "execution_count": null,
      "outputs": [
        {
          "output_type": "execute_result",
          "data": {
            "text/plain": [
              "Linear(in_features=3, out_features=1, bias=True)"
            ]
          },
          "metadata": {},
          "execution_count": 123
        }
      ]
    },
    {
      "cell_type": "code",
      "source": [
        "linear_fn.weight"
      ],
      "metadata": {
        "colab": {
          "base_uri": "https://localhost:8080/"
        },
        "id": "ZOeZ0mAMuein",
        "outputId": "7210c048-f0a0-4baf-f2c8-374516455fe5"
      },
      "execution_count": null,
      "outputs": [
        {
          "output_type": "execute_result",
          "data": {
            "text/plain": [
              "Parameter containing:\n",
              "tensor([[ 0.2533, -0.5754, -0.1774]], requires_grad=True)"
            ]
          },
          "metadata": {},
          "execution_count": 124
        }
      ]
    },
    {
      "cell_type": "code",
      "source": [
        "# XW + b\n",
        "Y = linear_fn(X) # X=[2, 3] (torch.matmul) W[3, 1] -> [2, 1]\n",
        "print(Y)\n",
        "print(Y.shape)"
      ],
      "metadata": {
        "colab": {
          "base_uri": "https://localhost:8080/"
        },
        "id": "koY6ZsWjuiWQ",
        "outputId": "f3911f9f-d7f9-4b41-9926-8c72c849a033"
      },
      "execution_count": null,
      "outputs": [
        {
          "output_type": "stream",
          "name": "stdout",
          "text": [
            "tensor([[-1.5613],\n",
            "        [-3.0599]], grad_fn=<AddmmBackward0>)\n",
            "torch.Size([2, 1])\n"
          ]
        }
      ]
    },
    {
      "cell_type": "code",
      "source": [
        "Y = Y.sum()\n",
        "print(Y)\n",
        "print(Y.item())"
      ],
      "metadata": {
        "colab": {
          "base_uri": "https://localhost:8080/"
        },
        "id": "a6t7QxAjvIM6",
        "outputId": "30c3dde9-7750-4a42-9a23-4c753e7dda5a"
      },
      "execution_count": null,
      "outputs": [
        {
          "output_type": "stream",
          "name": "stdout",
          "text": [
            "tensor(-4.6212, grad_fn=<SumBackward0>)\n",
            "-4.621153831481934\n"
          ]
        }
      ]
    },
    {
      "cell_type": "markdown",
      "source": [
        "You can use other types of `nn.Module` in PyTorch"
      ],
      "metadata": {
        "id": "-K0j3BZXviSY"
      }
    },
    {
      "cell_type": "code",
      "source": [
        "nn.Conv2d\n",
        "nn.RNNCell\n",
        "nn.LSTMCell\n",
        "nn.GRUCell\n",
        "nn.Transformer;"
      ],
      "metadata": {
        "id": "AgzQ3T2dvcTW"
      },
      "execution_count": null,
      "outputs": []
    },
    {
      "cell_type": "markdown",
      "source": [
        "### How can we design a customized model (neural network)?"
      ],
      "metadata": {
        "id": "msNcNlaAvxSj"
      }
    },
    {
      "cell_type": "code",
      "source": [
        "class MLP(nn.Module):\n",
        "    def __init__(self, input_dim, output_dim, hidden_dim):\n",
        "        super(MLP, self).__init__()\n",
        "        self.linear_1 = nn.Linear(input_dim, hidden_dim)\n",
        "        self.linear_2 = nn.Linear(hidden_dim, output_dim)\n",
        "        self.relu = nn.ReLU()\n",
        "        \n",
        "    def forward(self, x):\n",
        "        x = self.linear_1(x)\n",
        "        x = self.relu(x) # Activation function\n",
        "        x = self.linear_2(x)\n",
        "        return x"
      ],
      "metadata": {
        "id": "Zh3gYwHovr3I"
      },
      "execution_count": null,
      "outputs": []
    },
    {
      "cell_type": "code",
      "source": [
        "mlp = MLP(input_dim=3, output_dim=1, hidden_dim=3)\n",
        "\n",
        "# a = MLP(input_dim=3, output_dim=1, hidden_dim=3)\n",
        "# a\n",
        "# b = MLP(input_dim=3, output_dim=1, hidden_dim=3)\n",
        "# b\n",
        "# print(a.eq(b).all())"
      ],
      "metadata": {
        "id": "LyNsVDLgv3j4"
      },
      "execution_count": null,
      "outputs": []
    },
    {
      "cell_type": "code",
      "source": [
        "# X'shape: [2, 3]\n",
        "print(X.shape)\n",
        "# z = W2(relu(W1X)) where W1's shape:[2, 3] and W2's shape:[3,1]\n",
        "z = mlp(X) # [2, 3] x [3, 3] x [3, 1] -> [2, 1]\n",
        "print(z, z.shape)"
      ],
      "metadata": {
        "colab": {
          "base_uri": "https://localhost:8080/"
        },
        "id": "LdllC9JrwBXm",
        "outputId": "d0ed0057-72f4-4099-83c1-06884f3b9723"
      },
      "execution_count": null,
      "outputs": [
        {
          "output_type": "stream",
          "name": "stdout",
          "text": [
            "torch.Size([2, 3])\n",
            "tensor([[-0.3207],\n",
            "        [-1.2725]], grad_fn=<AddmmBackward0>) torch.Size([2, 1])\n"
          ]
        }
      ]
    },
    {
      "cell_type": "code",
      "source": [
        "# With batch input X2 with a size of [batch_size, 2, 3]\n",
        "batch_size = 8\n",
        "X = torch.rand(batch_size, 2, 3)\n",
        "print(X.shape)\n",
        "\n",
        "Z = mlp(X)\n",
        "print(Z.shape)"
      ],
      "metadata": {
        "colab": {
          "base_uri": "https://localhost:8080/"
        },
        "id": "_0N4PZs60yvE",
        "outputId": "2070729b-4890-41f7-e0e4-a1a0555d65db"
      },
      "execution_count": null,
      "outputs": [
        {
          "output_type": "stream",
          "name": "stdout",
          "text": [
            "torch.Size([8, 2, 3])\n",
            "torch.Size([8, 2, 1])\n"
          ]
        }
      ]
    },
    {
      "cell_type": "markdown",
      "source": [
        "**What is activation function?**\n",
        "- They make non-linearity for deep neural networks\n",
        "- Therefore, deep neural networks can approximate complex functions"
      ],
      "metadata": {
        "id": "Oc3g06Ftx1nN"
      }
    },
    {
      "cell_type": "code",
      "source": [
        "nn.Sigmoid\n",
        "nn.ReLU\n",
        "nn.LeakyReLU\n",
        "nn.Tanh;"
      ],
      "metadata": {
        "id": "WXfY2saux2Gi"
      },
      "execution_count": null,
      "outputs": []
    }
  ]
}